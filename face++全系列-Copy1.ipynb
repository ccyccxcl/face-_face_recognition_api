{
 "cells": [
  {
   "cell_type": "code",
   "execution_count": 64,
   "metadata": {},
   "outputs": [
    {
     "name": "stdout",
     "output_type": "stream",
     "text": [
      "C:/Users/Administrator/Desktop/face/base\\1.jpg\n",
      "1ed3f095a3f34a89c238186ba22934cf\n",
      "{'faceset_token': '39d8233451d5294e14d3a328c233d6bb', 'time_used': 496, 'face_count': 1, 'face_added': 1, 'request_id': '1591340133,12120286-2a57-48fd-8db5-11763f4ebd19', 'outer_id': '', 'failure_detail': []}\n",
      "C:/Users/Administrator/Desktop/face/base\\2.jpg\n",
      "52f7d92e94746578e49e02e66d055837\n",
      "{'faceset_token': '39d8233451d5294e14d3a328c233d6bb', 'time_used': 432, 'face_count': 2, 'face_added': 1, 'request_id': '1591340134,be7162df-5957-4647-b4eb-6accfe12fa30', 'outer_id': '', 'failure_detail': []}\n",
      "C:/Users/Administrator/Desktop/face/base\\3.jpg\n",
      "69eab3164972d4a06783e32c20b6d4c4\n",
      "{'faceset_token': '39d8233451d5294e14d3a328c233d6bb', 'time_used': 410, 'face_count': 3, 'face_added': 1, 'request_id': '1591340135,f01b6d36-c69f-4883-ac02-8cd2f76f4029', 'outer_id': '', 'failure_detail': []}\n",
      "C:/Users/Administrator/Desktop/face/base\\4.jpg\n",
      "b88ede3a48faac8c6bcf5ad218a54dc3\n",
      "{'faceset_token': '39d8233451d5294e14d3a328c233d6bb', 'time_used': 454, 'face_count': 4, 'face_added': 1, 'request_id': '1591340136,c10aab40-9790-48be-b165-cd5825cae8dd', 'outer_id': '', 'failure_detail': []}\n",
      "C:/Users/Administrator/Desktop/face/base\\5.jpg\n",
      "56121534ec74f675391587f468309c05\n",
      "{'faceset_token': '39d8233451d5294e14d3a328c233d6bb', 'time_used': 518, 'face_count': 5, 'face_added': 1, 'request_id': '1591340138,e704ec04-eec8-4067-9c3c-c894110ec2be', 'outer_id': '', 'failure_detail': []}\n",
      "C:/Users/Administrator/Desktop/face/base\\6.jpg\n",
      "C:/Users/Administrator/Desktop/face/base\\7.jpg\n",
      "ddb110bbc02cfbfcd522e3d8f9ae977b\n",
      "{'faceset_token': '39d8233451d5294e14d3a328c233d6bb', 'time_used': 602, 'face_count': 6, 'face_added': 1, 'request_id': '1591340139,4a7ec2d1-4202-4e02-a704-fe03a28e5cf1', 'outer_id': '', 'failure_detail': []}\n"
     ]
    }
   ],
   "source": [
    "import requests\n",
    "from json import JSONDecoder\n",
    "import cv2\n",
    "import time\n",
    "import json\n",
    "import glob\n",
    "face_tokens=[]\n",
    "url1 = \"https://api-cn.faceplusplus.com/facepp/v3/detect\"  #建人脸库\n",
    "url2= \"https://api-cn.faceplusplus.com/facepp/v3/faceset/create\"        \n",
    "url3 = \"https://api-cn.faceplusplus.com/facepp/v3/faceset/addface\" #添加人脸\n",
    "key =\"xx\"\n",
    "secret =\"xx\"\n",
    "data2 = {\"api_key\": api_key, \"api_secret\": api_secret,}  #\n",
    "    # post上传\n",
    "response2 = requests.post(url2, data=data2)\n",
    "test2 = response2.json()\n",
    "faceset_token=test2[\"faceset_token\"]\n",
    "#print(faceset_token)   \n",
    "for fname in glob.glob(\"C:/Users/Administrator/Desktop/face/base/*.jpg\",recursive=True):\n",
    "    print(fname)\n",
    "    data1 = {\"api_key\": key,\n",
    "            \"api_secret\": secret,\n",
    "            \"return_attributes\": \"gender,age\",}\n",
    "    files = {\"image_file\": open(fname, \"rb\")}\n",
    "    response = requests.post(url1, data=data1, files=files)\n",
    "    result = response.content.decode('utf-8')\n",
    "    result =json.loads( result)\n",
    "    if result[\"faces\"]:\n",
    "        face_token=result[\"faces\"][0]['face_token']\n",
    "        face_tokens.append(face_token)\n",
    "        print(face_token) \n",
    "        data3 = {\"api_key\": api_key, \"api_secret\": api_secret,\"faceset_token\": faceset_token,\"face_tokens\": face_token,}  #\n",
    "    # post上传\n",
    "        response = requests.post(url3, data=data3)\n",
    "        test = response.json()\n",
    "        print(test)"
   ]
  },
  {
   "cell_type": "code",
   "execution_count": 66,
   "metadata": {},
   "outputs": [
    {
     "name": "stdout",
     "output_type": "stream",
     "text": [
      "C:/Users/Administrator/Desktop/face/test\\10.jpg\n",
      "74.337 b88ede3a48faac8c6bcf5ad218a54dc3\n",
      "C:/Users/Administrator/Desktop/face/test\\4.jpg\n",
      "79.315 1ed3f095a3f34a89c238186ba22934cf\n",
      "C:/Users/Administrator/Desktop/face/test\\5.jpg\n",
      "86.575 56121534ec74f675391587f468309c05\n",
      "C:/Users/Administrator/Desktop/face/test\\6.jpg\n",
      "84.249 1ed3f095a3f34a89c238186ba22934cf\n"
     ]
    }
   ],
   "source": [
    "url = \"https://api-cn.faceplusplus.com/facepp/v3/search\"\n",
    "data = {\"api_key\": api_key, \"api_secret\": api_secret}\n",
    "result = requests.post(url, data).json()\n",
    "for fname in glob.glob(\"C:/Users/Administrator/Desktop/face/test/*.jpg\",recursive=True):\n",
    "    \n",
    "    data = {\"api_key\": key,\n",
    "            \"api_secret\": secret,\n",
    "            \"image_url\": fname,\n",
    "            \"faceset_token\":\"39d8233451d5294e14d3a328c233d6bb\",\n",
    "            \"return_result_count\":1\n",
    "           }\n",
    "    files = {\"image_file\": open(fname, \"rb\")}\n",
    "    response = requests.post(url, data=data, files=files)\n",
    "    result = response.content.decode('utf-8')\n",
    "    result =json.loads( result)\n",
    "    #print(result)\n",
    "    if result[\"faces\"]:\n",
    "        print(fname)\n",
    "        print(result[\"results\"][0][\"confidence\"],result[\"results\"][0][\"face_token\"])"
   ]
  },
  {
   "cell_type": "code",
   "execution_count": null,
   "metadata": {},
   "outputs": [],
   "source": []
  }
 ],
 "metadata": {
  "kernelspec": {
   "display_name": "Python 3",
   "language": "python",
   "name": "python3"
  },
  "language_info": {
   "codemirror_mode": {
    "name": "ipython",
    "version": 3
   },
   "file_extension": ".py",
   "mimetype": "text/x-python",
   "name": "python",
   "nbconvert_exporter": "python",
   "pygments_lexer": "ipython3",
   "version": "3.7.4"
  }
 },
 "nbformat": 4,
 "nbformat_minor": 2
}
